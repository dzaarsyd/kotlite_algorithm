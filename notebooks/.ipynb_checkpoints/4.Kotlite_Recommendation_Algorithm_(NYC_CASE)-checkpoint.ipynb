{
 "cells": [
  {
   "cell_type": "code",
   "execution_count": null,
   "metadata": {
    "id": "O9t5alYW9Ovm"
   },
   "outputs": [],
   "source": [
    "import json\n",
    "import numpy as np\n",
    "import pandas as pd\n",
    "from scipy.spatial.distance import cosine\n",
    "from geopy import distance\n",
    "import datetime\n",
    "\n",
    "import warnings\n",
    "warnings.filterwarnings('ignore')"
   ]
  },
  {
   "cell_type": "code",
   "execution_count": null,
   "metadata": {
    "colab": {
     "base_uri": "https://localhost:8080/",
     "height": 452
    },
    "id": "kkI6EC9L9jqh",
    "outputId": "633aad0a-5f2b-4c4b-e8b8-554eb913555a"
   },
   "outputs": [
    {
     "data": {
      "text/html": [
       "<div>\n",
       "<style scoped>\n",
       "    .dataframe tbody tr th:only-of-type {\n",
       "        vertical-align: middle;\n",
       "    }\n",
       "\n",
       "    .dataframe tbody tr th {\n",
       "        vertical-align: top;\n",
       "    }\n",
       "\n",
       "    .dataframe thead th {\n",
       "        text-align: right;\n",
       "    }\n",
       "</style>\n",
       "<table border=\"1\" class=\"dataframe\">\n",
       "  <thead>\n",
       "    <tr style=\"text-align: right;\">\n",
       "      <th></th>\n",
       "      <th>id</th>\n",
       "      <th>pickup_datetime</th>\n",
       "      <th>pickup_latitude</th>\n",
       "      <th>pickup_longitude</th>\n",
       "      <th>dropoff_latitude</th>\n",
       "      <th>dropoff_longitude</th>\n",
       "      <th>routes</th>\n",
       "    </tr>\n",
       "  </thead>\n",
       "  <tbody>\n",
       "    <tr>\n",
       "      <th>count</th>\n",
       "      <td>100</td>\n",
       "      <td>100</td>\n",
       "      <td>100.000000</td>\n",
       "      <td>100.000000</td>\n",
       "      <td>100.000000</td>\n",
       "      <td>100.000000</td>\n",
       "      <td>100</td>\n",
       "    </tr>\n",
       "    <tr>\n",
       "      <th>unique</th>\n",
       "      <td>100</td>\n",
       "      <td>100</td>\n",
       "      <td>NaN</td>\n",
       "      <td>NaN</td>\n",
       "      <td>NaN</td>\n",
       "      <td>NaN</td>\n",
       "      <td>100</td>\n",
       "    </tr>\n",
       "    <tr>\n",
       "      <th>top</th>\n",
       "      <td>id1556677</td>\n",
       "      <td>2016-01-02 22:19:00</td>\n",
       "      <td>NaN</td>\n",
       "      <td>NaN</td>\n",
       "      <td>NaN</td>\n",
       "      <td>NaN</td>\n",
       "      <td>[[40.7708907, -73.9906726], [40.7636484, -73.9...</td>\n",
       "    </tr>\n",
       "    <tr>\n",
       "      <th>freq</th>\n",
       "      <td>1</td>\n",
       "      <td>1</td>\n",
       "      <td>NaN</td>\n",
       "      <td>NaN</td>\n",
       "      <td>NaN</td>\n",
       "      <td>NaN</td>\n",
       "      <td>1</td>\n",
       "    </tr>\n",
       "    <tr>\n",
       "      <th>first</th>\n",
       "      <td>NaN</td>\n",
       "      <td>2016-01-01 00:31:00</td>\n",
       "      <td>NaN</td>\n",
       "      <td>NaN</td>\n",
       "      <td>NaN</td>\n",
       "      <td>NaN</td>\n",
       "      <td>NaN</td>\n",
       "    </tr>\n",
       "    <tr>\n",
       "      <th>last</th>\n",
       "      <td>NaN</td>\n",
       "      <td>2016-01-08 19:19:00</td>\n",
       "      <td>NaN</td>\n",
       "      <td>NaN</td>\n",
       "      <td>NaN</td>\n",
       "      <td>NaN</td>\n",
       "      <td>NaN</td>\n",
       "    </tr>\n",
       "    <tr>\n",
       "      <th>mean</th>\n",
       "      <td>NaN</td>\n",
       "      <td>NaN</td>\n",
       "      <td>40.749504</td>\n",
       "      <td>-73.974516</td>\n",
       "      <td>40.747843</td>\n",
       "      <td>-73.973099</td>\n",
       "      <td>NaN</td>\n",
       "    </tr>\n",
       "    <tr>\n",
       "      <th>std</th>\n",
       "      <td>NaN</td>\n",
       "      <td>NaN</td>\n",
       "      <td>0.025018</td>\n",
       "      <td>0.035952</td>\n",
       "      <td>0.027119</td>\n",
       "      <td>0.040487</td>\n",
       "      <td>NaN</td>\n",
       "    </tr>\n",
       "    <tr>\n",
       "      <th>min</th>\n",
       "      <td>NaN</td>\n",
       "      <td>NaN</td>\n",
       "      <td>40.645046</td>\n",
       "      <td>-74.010674</td>\n",
       "      <td>40.644501</td>\n",
       "      <td>-74.015511</td>\n",
       "      <td>NaN</td>\n",
       "    </tr>\n",
       "    <tr>\n",
       "      <th>25%</th>\n",
       "      <td>NaN</td>\n",
       "      <td>NaN</td>\n",
       "      <td>40.734173</td>\n",
       "      <td>-73.993340</td>\n",
       "      <td>40.729736</td>\n",
       "      <td>-73.995031</td>\n",
       "      <td>NaN</td>\n",
       "    </tr>\n",
       "    <tr>\n",
       "      <th>50%</th>\n",
       "      <td>NaN</td>\n",
       "      <td>NaN</td>\n",
       "      <td>40.750790</td>\n",
       "      <td>-73.984325</td>\n",
       "      <td>40.750311</td>\n",
       "      <td>-73.982868</td>\n",
       "      <td>NaN</td>\n",
       "    </tr>\n",
       "    <tr>\n",
       "      <th>75%</th>\n",
       "      <td>NaN</td>\n",
       "      <td>NaN</td>\n",
       "      <td>40.764764</td>\n",
       "      <td>-73.969076</td>\n",
       "      <td>40.765440</td>\n",
       "      <td>-73.966127</td>\n",
       "      <td>NaN</td>\n",
       "    </tr>\n",
       "    <tr>\n",
       "      <th>max</th>\n",
       "      <td>NaN</td>\n",
       "      <td>NaN</td>\n",
       "      <td>40.803699</td>\n",
       "      <td>-73.780922</td>\n",
       "      <td>40.804054</td>\n",
       "      <td>-73.771988</td>\n",
       "      <td>NaN</td>\n",
       "    </tr>\n",
       "  </tbody>\n",
       "</table>\n",
       "</div>"
      ],
      "text/plain": [
       "               id  ...                                             routes\n",
       "count         100  ...                                                100\n",
       "unique        100  ...                                                100\n",
       "top     id1556677  ...  [[40.7708907, -73.9906726], [40.7636484, -73.9...\n",
       "freq            1  ...                                                  1\n",
       "first         NaN  ...                                                NaN\n",
       "last          NaN  ...                                                NaN\n",
       "mean          NaN  ...                                                NaN\n",
       "std           NaN  ...                                                NaN\n",
       "min           NaN  ...                                                NaN\n",
       "25%           NaN  ...                                                NaN\n",
       "50%           NaN  ...                                                NaN\n",
       "75%           NaN  ...                                                NaN\n",
       "max           NaN  ...                                                NaN\n",
       "\n",
       "[13 rows x 7 columns]"
      ]
     },
     "execution_count": 2,
     "metadata": {
      "tags": []
     },
     "output_type": "execute_result"
    }
   ],
   "source": [
    "driver_df = pd.read_csv('/content/drive/Shareddrives/Brillante Workspace/ML Corner/Dataset/kotlite_dataset/kotlite_driver_dataset.csv')\n",
    "driver_df['pickup_datetime'] = pd.to_datetime(driver_df['pickup_datetime'])\n",
    "driver_df.describe(include='all')"
   ]
  },
  {
   "cell_type": "code",
   "execution_count": null,
   "metadata": {
    "colab": {
     "base_uri": "https://localhost:8080/",
     "height": 452
    },
    "id": "7VwB1qT_9xJd",
    "outputId": "53e7e2dc-868e-46b7-ff99-4de949a24f7d"
   },
   "outputs": [
    {
     "data": {
      "text/html": [
       "<div>\n",
       "<style scoped>\n",
       "    .dataframe tbody tr th:only-of-type {\n",
       "        vertical-align: middle;\n",
       "    }\n",
       "\n",
       "    .dataframe tbody tr th {\n",
       "        vertical-align: top;\n",
       "    }\n",
       "\n",
       "    .dataframe thead th {\n",
       "        text-align: right;\n",
       "    }\n",
       "</style>\n",
       "<table border=\"1\" class=\"dataframe\">\n",
       "  <thead>\n",
       "    <tr style=\"text-align: right;\">\n",
       "      <th></th>\n",
       "      <th>id</th>\n",
       "      <th>pickup_datetime</th>\n",
       "      <th>pickup_latitude</th>\n",
       "      <th>pickup_longitude</th>\n",
       "      <th>dropoff_latitude</th>\n",
       "      <th>dropoff_longitude</th>\n",
       "    </tr>\n",
       "  </thead>\n",
       "  <tbody>\n",
       "    <tr>\n",
       "      <th>count</th>\n",
       "      <td>1000</td>\n",
       "      <td>1000</td>\n",
       "      <td>1000.000000</td>\n",
       "      <td>1000.000000</td>\n",
       "      <td>1000.000000</td>\n",
       "      <td>1000.000000</td>\n",
       "    </tr>\n",
       "    <tr>\n",
       "      <th>unique</th>\n",
       "      <td>1000</td>\n",
       "      <td>951</td>\n",
       "      <td>NaN</td>\n",
       "      <td>NaN</td>\n",
       "      <td>NaN</td>\n",
       "      <td>NaN</td>\n",
       "    </tr>\n",
       "    <tr>\n",
       "      <th>top</th>\n",
       "      <td>id2403147</td>\n",
       "      <td>2016-01-06 22:22:00</td>\n",
       "      <td>NaN</td>\n",
       "      <td>NaN</td>\n",
       "      <td>NaN</td>\n",
       "      <td>NaN</td>\n",
       "    </tr>\n",
       "    <tr>\n",
       "      <th>freq</th>\n",
       "      <td>1</td>\n",
       "      <td>3</td>\n",
       "      <td>NaN</td>\n",
       "      <td>NaN</td>\n",
       "      <td>NaN</td>\n",
       "      <td>NaN</td>\n",
       "    </tr>\n",
       "    <tr>\n",
       "      <th>first</th>\n",
       "      <td>NaN</td>\n",
       "      <td>2016-01-01 00:08:00</td>\n",
       "      <td>NaN</td>\n",
       "      <td>NaN</td>\n",
       "      <td>NaN</td>\n",
       "      <td>NaN</td>\n",
       "    </tr>\n",
       "    <tr>\n",
       "      <th>last</th>\n",
       "      <td>NaN</td>\n",
       "      <td>2016-01-08 21:51:00</td>\n",
       "      <td>NaN</td>\n",
       "      <td>NaN</td>\n",
       "      <td>NaN</td>\n",
       "      <td>NaN</td>\n",
       "    </tr>\n",
       "    <tr>\n",
       "      <th>mean</th>\n",
       "      <td>NaN</td>\n",
       "      <td>NaN</td>\n",
       "      <td>40.749641</td>\n",
       "      <td>-73.970445</td>\n",
       "      <td>40.751141</td>\n",
       "      <td>-73.970161</td>\n",
       "    </tr>\n",
       "    <tr>\n",
       "      <th>std</th>\n",
       "      <td>NaN</td>\n",
       "      <td>NaN</td>\n",
       "      <td>0.030697</td>\n",
       "      <td>0.041817</td>\n",
       "      <td>0.034755</td>\n",
       "      <td>0.039180</td>\n",
       "    </tr>\n",
       "    <tr>\n",
       "      <th>min</th>\n",
       "      <td>NaN</td>\n",
       "      <td>NaN</td>\n",
       "      <td>40.583881</td>\n",
       "      <td>-74.034729</td>\n",
       "      <td>40.553360</td>\n",
       "      <td>-74.181625</td>\n",
       "    </tr>\n",
       "    <tr>\n",
       "      <th>25%</th>\n",
       "      <td>NaN</td>\n",
       "      <td>NaN</td>\n",
       "      <td>40.737030</td>\n",
       "      <td>-73.989853</td>\n",
       "      <td>40.734289</td>\n",
       "      <td>-73.990480</td>\n",
       "    </tr>\n",
       "    <tr>\n",
       "      <th>50%</th>\n",
       "      <td>NaN</td>\n",
       "      <td>NaN</td>\n",
       "      <td>40.753593</td>\n",
       "      <td>-73.980576</td>\n",
       "      <td>40.755320</td>\n",
       "      <td>-73.978950</td>\n",
       "    </tr>\n",
       "    <tr>\n",
       "      <th>75%</th>\n",
       "      <td>NaN</td>\n",
       "      <td>NaN</td>\n",
       "      <td>40.768180</td>\n",
       "      <td>-73.965914</td>\n",
       "      <td>40.771060</td>\n",
       "      <td>-73.960032</td>\n",
       "    </tr>\n",
       "    <tr>\n",
       "      <th>max</th>\n",
       "      <td>NaN</td>\n",
       "      <td>NaN</td>\n",
       "      <td>40.867722</td>\n",
       "      <td>-73.776680</td>\n",
       "      <td>40.875576</td>\n",
       "      <td>-73.731255</td>\n",
       "    </tr>\n",
       "  </tbody>\n",
       "</table>\n",
       "</div>"
      ],
      "text/plain": [
       "               id      pickup_datetime  ...  dropoff_latitude  dropoff_longitude\n",
       "count        1000                 1000  ...       1000.000000        1000.000000\n",
       "unique       1000                  951  ...               NaN                NaN\n",
       "top     id2403147  2016-01-06 22:22:00  ...               NaN                NaN\n",
       "freq            1                    3  ...               NaN                NaN\n",
       "first         NaN  2016-01-01 00:08:00  ...               NaN                NaN\n",
       "last          NaN  2016-01-08 21:51:00  ...               NaN                NaN\n",
       "mean          NaN                  NaN  ...         40.751141         -73.970161\n",
       "std           NaN                  NaN  ...          0.034755           0.039180\n",
       "min           NaN                  NaN  ...         40.553360         -74.181625\n",
       "25%           NaN                  NaN  ...         40.734289         -73.990480\n",
       "50%           NaN                  NaN  ...         40.755320         -73.978950\n",
       "75%           NaN                  NaN  ...         40.771060         -73.960032\n",
       "max           NaN                  NaN  ...         40.875576         -73.731255\n",
       "\n",
       "[13 rows x 6 columns]"
      ]
     },
     "execution_count": 3,
     "metadata": {
      "tags": []
     },
     "output_type": "execute_result"
    }
   ],
   "source": [
    "passanger_df = pd.read_csv('/content/drive/Shareddrives/Brillante Workspace/ML Corner/Dataset/kotlite_dataset/kotlite_passanger_dataset.csv')\n",
    "passanger_df['pickup_datetime'] = pd.to_datetime(passanger_df['pickup_datetime'])\n",
    "passanger_df.describe(include='all')"
   ]
  },
  {
   "cell_type": "code",
   "execution_count": null,
   "metadata": {
    "colab": {
     "base_uri": "https://localhost:8080/"
    },
    "id": "OZ5Nn0vEC0Dp",
    "outputId": "eda5c740-e380-45b1-e986-f0ff33101314"
   },
   "outputs": [
    {
     "data": {
      "text/plain": [
       "array([['id2583702', Timestamp('2016-01-02 01:15:00'), 40.73067856,\n",
       "        -73.99221802, 40.70993805, -74.01551056,\n",
       "        '[[40.7307192, -73.9923032], [40.7254948, -73.9967242], [40.7291418, -74.0105651], [40.7098322, -74.0150523], [40.7098977, -74.0155262]]'],\n",
       "       ['id2556899', Timestamp('2016-01-08 07:58:00'), 40.76783371,\n",
       "        -73.91178131, 40.75821686, -73.9196167,\n",
       "        '[[40.7678409, -73.91179679999999], [40.7582215, -73.91962649999999]]']],\n",
       "      dtype=object)"
      ]
     },
     "execution_count": 4,
     "metadata": {
      "tags": []
     },
     "output_type": "execute_result"
    }
   ],
   "source": [
    "driver_df.head(2).values"
   ]
  },
  {
   "cell_type": "code",
   "execution_count": null,
   "metadata": {
    "id": "Q50zyVMQDLK5"
   },
   "outputs": [],
   "source": [
    "# create l1 distance function\n",
    "def l1_distance(point1, point2):\n",
    "  l1 = 0\n",
    "  for i in range(len(point1)):\n",
    "    l1 += abs(point1[i] - point2[i])\n",
    "  return l1\n",
    "\n",
    "# to get minimum point from start or end passanger point\n",
    "def driver_data_handler(single_driv_data, passanger_point):\n",
    "  # passanger point == [latitude, longitude]\n",
    "  routes = single_driv_data[-1]\n",
    "\n",
    "  driver_routes = []\n",
    "\n",
    "  # pop start point data to driver routes\n",
    "  driver_routes.append([single_driv_data[2], single_driv_data[3]])\n",
    "  \n",
    "  # parse routes and iterate to pop driver point to driver routes\n",
    "  route_parse = json.loads(routes)\n",
    "  for _route in route_parse:\n",
    "    driver_routes.append(_route)\n",
    "  \n",
    "  # pop end point data to driver routes\n",
    "  driver_routes.append([single_driv_data[4], single_driv_data[5]])\n",
    "  \n",
    "  # after get driver_routes list, calculate distance\n",
    "  dist = []\n",
    "  for driver_point in driver_routes:\n",
    "    l1_dist = l1_distance(passanger_point, driver_point)\n",
    "    dist.append(l1_dist)\n",
    "  \n",
    "  # get minimum values info\n",
    "  min_val = min(dist)\n",
    "  idx = dist.index(min_val)\n",
    "  nearest_point = driver_routes[idx]\n",
    "  return min_val, idx, nearest_point"
   ]
  },
  {
   "cell_type": "code",
   "execution_count": null,
   "metadata": {
    "id": "32OaSaGp99jv"
   },
   "outputs": [],
   "source": [
    "# get nearest driver from passanger point\n",
    "# query include [pickup_datetime, pickup_latitude, pickup_longitude, dropoff_latitude, dropoff_longitude]\n",
    "def nearest1st_step(driver_data, query):\n",
    "  # nearest 1st step is use for get nearest distance, and in one way\n",
    "  picktime = query[0]\n",
    "  \n",
    "  # create filter for 30 minutes before and after picktime\n",
    "  diff = datetime.timedelta(minutes=30)\n",
    "  upth = picktime + diff\n",
    "  lowth = picktime - diff\n",
    "  \n",
    "  # filter driver_data\n",
    "  driver_data = driver_data.loc[(driver_data['pickup_datetime'] < upth) & (driver_data['pickup_datetime'] > lowth)]\n",
    "\n",
    "  # get distance from routes point data\n",
    "  dist = []\n",
    "  for drdt in driver_data.values:\n",
    "    start, _snear, pu_nearest_point = driver_data_handler(drdt, [query[1], query[2]])\n",
    "    end, _enear, do_nearest_point = driver_data_handler(drdt, [query[3], query[4]])\n",
    "    if _snear <= _enear:\n",
    "      dist.append((start + end, drdt[0], pu_nearest_point, do_nearest_point))\n",
    "  \n",
    "  # sorting distance\n",
    "  sorted_dist = sorted(dist)\n",
    "\n",
    "  # list for recomendations\n",
    "  recommendations = []\n",
    "  # get real distance from pickup/dropoff point from snear or enear point\n",
    "  for data in sorted_dist:\n",
    "    # distance from pickup point to pu_nearest_point\n",
    "    pick_distance = distance.distance([query[1], query[2]], data[2]).km\n",
    "    drop_distance = distance.distance([query[3], query[4]], data[3]).km\n",
    "    if (pick_distance <= 1.0) & (drop_distance <= 1.0).km:\n",
    "      recommendations.append((data[1]))\n",
    "\n",
    "  return sorted_dist"
   ]
  },
  {
   "cell_type": "code",
   "execution_count": null,
   "metadata": {
    "colab": {
     "base_uri": "https://localhost:8080/"
    },
    "id": "8rwLS7xRNLmz",
    "outputId": "6c538ed5-f392-466b-975f-63d201a6a894"
   },
   "outputs": [
    {
     "data": {
      "text/plain": [
       "array([Timestamp('2016-01-06 06:52:00'), 40.7505455, -73.99465179,\n",
       "       40.72822952, -74.00719452], dtype=object)"
      ]
     },
     "execution_count": 45,
     "metadata": {
      "tags": []
     },
     "output_type": "execute_result"
    }
   ],
   "source": [
    "pass_data = passanger_df.sample(1).values.reshape(-1)\n",
    "pass_data = pass_data[1:]\n",
    "pass_data"
   ]
  },
  {
   "cell_type": "code",
   "execution_count": null,
   "metadata": {
    "colab": {
     "base_uri": "https://localhost:8080/"
    },
    "id": "s4TUnLETP67p",
    "outputId": "1a6d53c5-9e57-4c36-ad3c-cebb5c87fc0b"
   },
   "outputs": [
    {
     "data": {
      "text/plain": [
       "[(0.031519289999998534,\n",
       "  'id3216829',\n",
       "  [40.749101, -73.992006],\n",
       "  [40.7441135, -73.9956495])]"
      ]
     },
     "execution_count": 49,
     "metadata": {
      "tags": []
     },
     "output_type": "execute_result"
    }
   ],
   "source": [
    "nearest1st_step(driver_df, pass_data)"
   ]
  },
  {
   "cell_type": "code",
   "execution_count": null,
   "metadata": {
    "colab": {
     "base_uri": "https://localhost:8080/"
    },
    "id": "euKGuZgzQVm2",
    "outputId": "cb6d88e2-98f1-4105-b167-0e3eacddc9f6"
   },
   "outputs": [
    {
     "data": {
      "text/plain": [
       "array([['id3216829', Timestamp('2016-01-06 07:12:00'), 40.74909210000001,\n",
       "        -73.99145508, 40.74123383, -73.9881134,\n",
       "        '[[40.74891520000001, -73.9915943], [40.749101, -73.992006], [40.7441135, -73.9956495], [40.741005, -73.9882813]]']],\n",
       "      dtype=object)"
      ]
     },
     "execution_count": 50,
     "metadata": {
      "tags": []
     },
     "output_type": "execute_result"
    }
   ],
   "source": [
    "driver_df[driver_df['id'] == 'id3216829'].values"
   ]
  },
  {
   "cell_type": "code",
   "execution_count": null,
   "metadata": {
    "id": "q1GME5_PQ1tF"
   },
   "outputs": [],
   "source": []
  }
 ],
 "metadata": {
  "colab": {
   "name": "Kotlite - Recommendation Algorithm (NYC CASE).ipynb",
   "provenance": []
  },
  "kernelspec": {
   "display_name": "Python 3",
   "language": "python",
   "name": "python3"
  },
  "language_info": {
   "codemirror_mode": {
    "name": "ipython",
    "version": 3
   },
   "file_extension": ".py",
   "mimetype": "text/x-python",
   "name": "python",
   "nbconvert_exporter": "python",
   "pygments_lexer": "ipython3",
   "version": "3.8.5"
  }
 },
 "nbformat": 4,
 "nbformat_minor": 1
}
