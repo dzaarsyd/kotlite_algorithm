{
  "nbformat": 4,
  "nbformat_minor": 0,
  "metadata": {
    "colab": {
      "name": "Kotlite - Recommendation Algorithm (KWB CASE).ipynb",
      "provenance": []
    },
    "kernelspec": {
      "name": "python3",
      "display_name": "Python 3"
    },
    "language_info": {
      "name": "python"
    }
  },
  "cells": [
    {
      "cell_type": "code",
      "metadata": {
        "id": "O9t5alYW9Ovm"
      },
      "source": [
        "import json\n",
        "import numpy as np\n",
        "import pandas as pd\n",
        "from scipy.spatial.distance import cosine\n",
        "from geopy import distance\n",
        "import datetime\n",
        "\n",
        "import warnings\n",
        "warnings.filterwarnings('ignore')"
      ],
      "execution_count": null,
      "outputs": []
    },
    {
      "cell_type": "code",
      "metadata": {
        "colab": {
          "base_uri": "https://localhost:8080/",
          "height": 452
        },
        "id": "kkI6EC9L9jqh",
        "outputId": "7cb95974-1f6c-44de-ff95-98cbd36fa461"
      },
      "source": [
        "driver_df = pd.read_csv('/content/drive/Shareddrives/Brillante Workspace/ML Corner/Dataset/kotlite_dataset/kotlite_driver_dataset_KWB_with_ket.csv')\n",
        "driver_df.loc[1, 'pickuptime'] = '19-05-2021 06:30'\n",
        "driver_df.loc[0, 'driver_id'] = 51\n",
        "driver_df['pickuptime'] = pd.to_datetime(driver_df['pickuptime'])\n",
        "driver_df.describe(include='all')"
      ],
      "execution_count": null,
      "outputs": [
        {
          "output_type": "execute_result",
          "data": {
            "text/html": [
              "<div>\n",
              "<style scoped>\n",
              "    .dataframe tbody tr th:only-of-type {\n",
              "        vertical-align: middle;\n",
              "    }\n",
              "\n",
              "    .dataframe tbody tr th {\n",
              "        vertical-align: top;\n",
              "    }\n",
              "\n",
              "    .dataframe thead th {\n",
              "        text-align: right;\n",
              "    }\n",
              "</style>\n",
              "<table border=\"1\" class=\"dataframe\">\n",
              "  <thead>\n",
              "    <tr style=\"text-align: right;\">\n",
              "      <th></th>\n",
              "      <th>driver_id</th>\n",
              "      <th>pickuptime</th>\n",
              "      <th>start_lat</th>\n",
              "      <th>start_long</th>\n",
              "      <th>end_lat</th>\n",
              "      <th>end_long</th>\n",
              "      <th>routes</th>\n",
              "      <th>ket_start</th>\n",
              "      <th>ket_end</th>\n",
              "    </tr>\n",
              "  </thead>\n",
              "  <tbody>\n",
              "    <tr>\n",
              "      <th>count</th>\n",
              "      <td>20.000000</td>\n",
              "      <td>20</td>\n",
              "      <td>20.000000</td>\n",
              "      <td>20.000000</td>\n",
              "      <td>20.000000</td>\n",
              "      <td>20.000000</td>\n",
              "      <td>20</td>\n",
              "      <td>20</td>\n",
              "      <td>20</td>\n",
              "    </tr>\n",
              "    <tr>\n",
              "      <th>unique</th>\n",
              "      <td>NaN</td>\n",
              "      <td>13</td>\n",
              "      <td>NaN</td>\n",
              "      <td>NaN</td>\n",
              "      <td>NaN</td>\n",
              "      <td>NaN</td>\n",
              "      <td>20</td>\n",
              "      <td>19</td>\n",
              "      <td>17</td>\n",
              "    </tr>\n",
              "    <tr>\n",
              "      <th>top</th>\n",
              "      <td>NaN</td>\n",
              "      <td>2021-05-19 07:00:00</td>\n",
              "      <td>NaN</td>\n",
              "      <td>NaN</td>\n",
              "      <td>NaN</td>\n",
              "      <td>NaN</td>\n",
              "      <td>[[-7.8927323, 112.5767376], [-7.8926213, 112.5...</td>\n",
              "      <td>SMA N 1 Batu</td>\n",
              "      <td>among tani</td>\n",
              "    </tr>\n",
              "    <tr>\n",
              "      <th>freq</th>\n",
              "      <td>NaN</td>\n",
              "      <td>4</td>\n",
              "      <td>NaN</td>\n",
              "      <td>NaN</td>\n",
              "      <td>NaN</td>\n",
              "      <td>NaN</td>\n",
              "      <td>1</td>\n",
              "      <td>2</td>\n",
              "      <td>3</td>\n",
              "    </tr>\n",
              "    <tr>\n",
              "      <th>first</th>\n",
              "      <td>NaN</td>\n",
              "      <td>2021-05-19 06:30:00</td>\n",
              "      <td>NaN</td>\n",
              "      <td>NaN</td>\n",
              "      <td>NaN</td>\n",
              "      <td>NaN</td>\n",
              "      <td>NaN</td>\n",
              "      <td>NaN</td>\n",
              "      <td>NaN</td>\n",
              "    </tr>\n",
              "    <tr>\n",
              "      <th>last</th>\n",
              "      <td>NaN</td>\n",
              "      <td>2021-05-19 17:00:00</td>\n",
              "      <td>NaN</td>\n",
              "      <td>NaN</td>\n",
              "      <td>NaN</td>\n",
              "      <td>NaN</td>\n",
              "      <td>NaN</td>\n",
              "      <td>NaN</td>\n",
              "      <td>NaN</td>\n",
              "    </tr>\n",
              "    <tr>\n",
              "      <th>mean</th>\n",
              "      <td>25.650000</td>\n",
              "      <td>NaN</td>\n",
              "      <td>-7.881579</td>\n",
              "      <td>112.539215</td>\n",
              "      <td>-7.888490</td>\n",
              "      <td>112.540150</td>\n",
              "      <td>NaN</td>\n",
              "      <td>NaN</td>\n",
              "      <td>NaN</td>\n",
              "    </tr>\n",
              "    <tr>\n",
              "      <th>std</th>\n",
              "      <td>16.239247</td>\n",
              "      <td>NaN</td>\n",
              "      <td>0.020704</td>\n",
              "      <td>0.023684</td>\n",
              "      <td>0.023849</td>\n",
              "      <td>0.029264</td>\n",
              "      <td>NaN</td>\n",
              "      <td>NaN</td>\n",
              "      <td>NaN</td>\n",
              "    </tr>\n",
              "    <tr>\n",
              "      <th>min</th>\n",
              "      <td>6.000000</td>\n",
              "      <td>NaN</td>\n",
              "      <td>-7.916181</td>\n",
              "      <td>112.508470</td>\n",
              "      <td>-7.952293</td>\n",
              "      <td>112.509902</td>\n",
              "      <td>NaN</td>\n",
              "      <td>NaN</td>\n",
              "      <td>NaN</td>\n",
              "    </tr>\n",
              "    <tr>\n",
              "      <th>25%</th>\n",
              "      <td>10.750000</td>\n",
              "      <td>NaN</td>\n",
              "      <td>-7.895160</td>\n",
              "      <td>112.526740</td>\n",
              "      <td>-7.905046</td>\n",
              "      <td>112.518075</td>\n",
              "      <td>NaN</td>\n",
              "      <td>NaN</td>\n",
              "      <td>NaN</td>\n",
              "    </tr>\n",
              "    <tr>\n",
              "      <th>50%</th>\n",
              "      <td>20.500000</td>\n",
              "      <td>NaN</td>\n",
              "      <td>-7.879073</td>\n",
              "      <td>112.530630</td>\n",
              "      <td>-7.879073</td>\n",
              "      <td>112.529459</td>\n",
              "      <td>NaN</td>\n",
              "      <td>NaN</td>\n",
              "      <td>NaN</td>\n",
              "    </tr>\n",
              "    <tr>\n",
              "      <th>75%</th>\n",
              "      <td>39.750000</td>\n",
              "      <td>NaN</td>\n",
              "      <td>-7.867929</td>\n",
              "      <td>112.556356</td>\n",
              "      <td>-7.868989</td>\n",
              "      <td>112.556356</td>\n",
              "      <td>NaN</td>\n",
              "      <td>NaN</td>\n",
              "      <td>NaN</td>\n",
              "    </tr>\n",
              "    <tr>\n",
              "      <th>max</th>\n",
              "      <td>51.000000</td>\n",
              "      <td>NaN</td>\n",
              "      <td>-7.834043</td>\n",
              "      <td>112.583958</td>\n",
              "      <td>-7.865714</td>\n",
              "      <td>112.612813</td>\n",
              "      <td>NaN</td>\n",
              "      <td>NaN</td>\n",
              "      <td>NaN</td>\n",
              "    </tr>\n",
              "  </tbody>\n",
              "</table>\n",
              "</div>"
            ],
            "text/plain": [
              "        driver_id           pickuptime  ...     ket_start     ket_end\n",
              "count   20.000000                   20  ...            20          20\n",
              "unique        NaN                   13  ...            19          17\n",
              "top           NaN  2021-05-19 07:00:00  ...  SMA N 1 Batu  among tani\n",
              "freq          NaN                    4  ...             2           3\n",
              "first         NaN  2021-05-19 06:30:00  ...           NaN         NaN\n",
              "last          NaN  2021-05-19 17:00:00  ...           NaN         NaN\n",
              "mean    25.650000                  NaN  ...           NaN         NaN\n",
              "std     16.239247                  NaN  ...           NaN         NaN\n",
              "min      6.000000                  NaN  ...           NaN         NaN\n",
              "25%     10.750000                  NaN  ...           NaN         NaN\n",
              "50%     20.500000                  NaN  ...           NaN         NaN\n",
              "75%     39.750000                  NaN  ...           NaN         NaN\n",
              "max     51.000000                  NaN  ...           NaN         NaN\n",
              "\n",
              "[13 rows x 9 columns]"
            ]
          },
          "metadata": {
            "tags": []
          },
          "execution_count": 2
        }
      ]
    },
    {
      "cell_type": "code",
      "metadata": {
        "id": "Q50zyVMQDLK5"
      },
      "source": [
        "# create l1 distance function\n",
        "def l1_distance(point1, point2):\n",
        "  l1 = 0\n",
        "  for i in range(len(point1)):\n",
        "    l1 += abs(point1[i] - point2[i])\n",
        "  return l1\n",
        "\n",
        "# to get minimum point from start or end passanger point\n",
        "def driver_data_handler(single_driv_data, passanger_point):\n",
        "  # passanger point == [latitude, longitude]\n",
        "  routes = single_driv_data[6]\n",
        "\n",
        "  driver_routes = []\n",
        "\n",
        "  # pop start point data to driver routes\n",
        "  driver_routes.append([single_driv_data[2], single_driv_data[3]])\n",
        "  \n",
        "  # parse routes and iterate to pop driver point to driver routes\n",
        "  route_parse = json.loads(routes)\n",
        "  for _route in route_parse:\n",
        "    driver_routes.append(_route)\n",
        "  \n",
        "  # pop end point data to driver routes\n",
        "  driver_routes.append([single_driv_data[4], single_driv_data[5]])\n",
        "  \n",
        "  # after get driver_routes list, calculate distance\n",
        "  dist = []\n",
        "  for driver_point in driver_routes:\n",
        "    l1_dist = l1_distance(passanger_point, driver_point)\n",
        "    dist.append(l1_dist)\n",
        "  \n",
        "  # get minimum values info\n",
        "  min_val = min(dist)\n",
        "  idx = dist.index(min_val)\n",
        "  nearest_point = driver_routes[idx]\n",
        "  return min_val, idx, nearest_point"
      ],
      "execution_count": null,
      "outputs": []
    },
    {
      "cell_type": "code",
      "metadata": {
        "id": "32OaSaGp99jv"
      },
      "source": [
        "# get nearest driver from passanger point\n",
        "# query include [pickup_datetime, pickup_latitude, pickup_longitude, dropoff_latitude, dropoff_longitude]\n",
        "def nearest1st_step(driver_data, query):\n",
        "  # nearest 1st step is use for get nearest distance, and in one way\n",
        "  picktime = query[0]\n",
        "  \n",
        "  # create filter for 30 minutes before and after picktime\n",
        "  diff = datetime.timedelta(hours=1)\n",
        "  upth = picktime + diff\n",
        "  lowth = picktime - diff\n",
        "  \n",
        "  # filter driver_data\n",
        "  driver_data = driver_data.loc[(driver_data['pickuptime'] <= upth) & (driver_data['pickuptime'] >= lowth)]\n",
        "\n",
        "  # get distance from routes point data\n",
        "  dist = []\n",
        "  for drdt in driver_data.values:\n",
        "    start, _snear, pu_nearest_point = driver_data_handler(drdt, [query[1], query[2]])\n",
        "    end, _enear, do_nearest_point = driver_data_handler(drdt, [query[3], query[4]])\n",
        "    if _snear <= _enear:\n",
        "      dist.append((start + end, drdt[0], pu_nearest_point, do_nearest_point))\n",
        "  \n",
        "  # sorting distance\n",
        "  sorted_dist = sorted(dist)\n",
        "\n",
        "  # list for recomendations\n",
        "  recommendations = []\n",
        "  # get real distance from pickup/dropoff point from snear or enear point\n",
        "  for data in sorted_dist:\n",
        "    # distance from pickup point to pu_nearest_point\n",
        "    pick_distance = distance.distance([query[1], query[2]], data[2]).km\n",
        "    drop_distance = distance.distance([query[3], query[4]], data[3]).km\n",
        "    if (pick_distance <= 2.0) & (drop_distance <= 2.0):\n",
        "      recommendations.append((data[1]))\n",
        "\n",
        "  return recommendations"
      ],
      "execution_count": null,
      "outputs": []
    },
    {
      "cell_type": "code",
      "metadata": {
        "colab": {
          "base_uri": "https://localhost:8080/",
          "height": 669
        },
        "id": "vOqVGNEMTlPa",
        "outputId": "29fc7ead-3eba-4916-fbb6-37d78d4ac3ea"
      },
      "source": [
        "driver_df[['ket_start', 'ket_end']]"
      ],
      "execution_count": null,
      "outputs": [
        {
          "output_type": "execute_result",
          "data": {
            "text/html": [
              "<div>\n",
              "<style scoped>\n",
              "    .dataframe tbody tr th:only-of-type {\n",
              "        vertical-align: middle;\n",
              "    }\n",
              "\n",
              "    .dataframe tbody tr th {\n",
              "        vertical-align: top;\n",
              "    }\n",
              "\n",
              "    .dataframe thead th {\n",
              "        text-align: right;\n",
              "    }\n",
              "</style>\n",
              "<table border=\"1\" class=\"dataframe\">\n",
              "  <thead>\n",
              "    <tr style=\"text-align: right;\">\n",
              "      <th></th>\n",
              "      <th>ket_start</th>\n",
              "      <th>ket_end</th>\n",
              "    </tr>\n",
              "  </thead>\n",
              "  <tbody>\n",
              "    <tr>\n",
              "      <th>0</th>\n",
              "      <td>pendem</td>\n",
              "      <td>among tani</td>\n",
              "    </tr>\n",
              "    <tr>\n",
              "      <th>1</th>\n",
              "      <td>giripurno</td>\n",
              "      <td>SMA N 1 Batu</td>\n",
              "    </tr>\n",
              "    <tr>\n",
              "      <th>2</th>\n",
              "      <td>sisir</td>\n",
              "      <td>pascasarjana UIN</td>\n",
              "    </tr>\n",
              "    <tr>\n",
              "      <th>3</th>\n",
              "      <td>pokopek</td>\n",
              "      <td>UB</td>\n",
              "    </tr>\n",
              "    <tr>\n",
              "      <th>4</th>\n",
              "      <td>Dau</td>\n",
              "      <td>Museum Angkut</td>\n",
              "    </tr>\n",
              "    <tr>\n",
              "      <th>5</th>\n",
              "      <td>sumberejo</td>\n",
              "      <td>wonderland</td>\n",
              "    </tr>\n",
              "    <tr>\n",
              "      <th>6</th>\n",
              "      <td>Punten</td>\n",
              "      <td>among tani</td>\n",
              "    </tr>\n",
              "    <tr>\n",
              "      <th>7</th>\n",
              "      <td>Bumiaji</td>\n",
              "      <td>UMM</td>\n",
              "    </tr>\n",
              "    <tr>\n",
              "      <th>8</th>\n",
              "      <td>Pesanggrahan</td>\n",
              "      <td>Balijestro</td>\n",
              "    </tr>\n",
              "    <tr>\n",
              "      <th>9</th>\n",
              "      <td>Wukir, temas</td>\n",
              "      <td>Krematorium</td>\n",
              "    </tr>\n",
              "    <tr>\n",
              "      <th>10</th>\n",
              "      <td>Junrejo</td>\n",
              "      <td>SMA N 1 Batu</td>\n",
              "    </tr>\n",
              "    <tr>\n",
              "      <th>11</th>\n",
              "      <td>Pendem</td>\n",
              "      <td>RSUD Batu</td>\n",
              "    </tr>\n",
              "    <tr>\n",
              "      <th>12</th>\n",
              "      <td>Diran</td>\n",
              "      <td>among tani</td>\n",
              "    </tr>\n",
              "    <tr>\n",
              "      <th>13</th>\n",
              "      <td>SMA N 1 Batu</td>\n",
              "      <td>Junrejo</td>\n",
              "    </tr>\n",
              "    <tr>\n",
              "      <th>14</th>\n",
              "      <td>SMA N 1 Batu</td>\n",
              "      <td>giripurno</td>\n",
              "    </tr>\n",
              "    <tr>\n",
              "      <th>15</th>\n",
              "      <td>Krematorium</td>\n",
              "      <td>Wukir, temas</td>\n",
              "    </tr>\n",
              "    <tr>\n",
              "      <th>16</th>\n",
              "      <td>among tani</td>\n",
              "      <td>Diran</td>\n",
              "    </tr>\n",
              "    <tr>\n",
              "      <th>17</th>\n",
              "      <td>pascasarjana UIN</td>\n",
              "      <td>sisir</td>\n",
              "    </tr>\n",
              "    <tr>\n",
              "      <th>18</th>\n",
              "      <td>Balijestro</td>\n",
              "      <td>Pesanggrahan</td>\n",
              "    </tr>\n",
              "    <tr>\n",
              "      <th>19</th>\n",
              "      <td>Museum Angkut</td>\n",
              "      <td>Dau</td>\n",
              "    </tr>\n",
              "  </tbody>\n",
              "</table>\n",
              "</div>"
            ],
            "text/plain": [
              "           ket_start           ket_end\n",
              "0             pendem        among tani\n",
              "1          giripurno      SMA N 1 Batu\n",
              "2              sisir  pascasarjana UIN\n",
              "3            pokopek                UB\n",
              "4                Dau     Museum Angkut\n",
              "5          sumberejo        wonderland\n",
              "6             Punten        among tani\n",
              "7            Bumiaji               UMM\n",
              "8       Pesanggrahan        Balijestro\n",
              "9       Wukir, temas       Krematorium\n",
              "10           Junrejo      SMA N 1 Batu\n",
              "11            Pendem         RSUD Batu\n",
              "12             Diran        among tani\n",
              "13      SMA N 1 Batu           Junrejo\n",
              "14      SMA N 1 Batu         giripurno\n",
              "15       Krematorium      Wukir, temas\n",
              "16        among tani             Diran\n",
              "17  pascasarjana UIN             sisir\n",
              "18        Balijestro      Pesanggrahan\n",
              "19     Museum Angkut               Dau"
            ]
          },
          "metadata": {
            "tags": []
          },
          "execution_count": 5
        }
      ]
    },
    {
      "cell_type": "code",
      "metadata": {
        "id": "zdvzj5s5Txh3"
      },
      "source": [
        "pickup_time = '2021-05-19 07:15:00'\n",
        "pickup_time = pd.to_datetime(pickup_time)\n",
        "pass_query = [pickup_time,-7.8901831,112.5459769, -7.877689,112.52537]"
      ],
      "execution_count": null,
      "outputs": []
    },
    {
      "cell_type": "code",
      "metadata": {
        "colab": {
          "base_uri": "https://localhost:8080/"
        },
        "id": "s4TUnLETP67p",
        "outputId": "ad8b5ac3-bf9b-45d9-ab78-e084734230e9"
      },
      "source": [
        "nearest1st_step(driver_df, pass_query)"
      ],
      "execution_count": null,
      "outputs": [
        {
          "output_type": "execute_result",
          "data": {
            "text/plain": [
              "[11]"
            ]
          },
          "metadata": {
            "tags": []
          },
          "execution_count": 13
        }
      ]
    },
    {
      "cell_type": "code",
      "metadata": {
        "colab": {
          "base_uri": "https://localhost:8080/"
        },
        "id": "euKGuZgzQVm2",
        "outputId": "be0a2a87-eb23-4b1f-d24a-0e5736bbff09"
      },
      "source": [
        "json.loads(driver_df.loc[0,'routes'])"
      ],
      "execution_count": null,
      "outputs": [
        {
          "output_type": "execute_result",
          "data": {
            "text/plain": [
              "[[-7.8927323, 112.5767376],\n",
              " [-7.8926213, 112.577466],\n",
              " [-7.892488600000001, 112.577469],\n",
              " [-7.8924153, 112.5786948],\n",
              " [-7.875366199999998, 112.5758507],\n",
              " [-7.869664699999999, 112.5659915],\n",
              " [-7.864168100000001, 112.5515171],\n",
              " [-7.862953599999999, 112.5268784],\n",
              " [-7.8677569, 112.524994],\n",
              " [-7.867638899999998, 112.5280067],\n",
              " [-7.870739899999999, 112.5275277],\n",
              " [-7.870086499999998, 112.5240687],\n",
              " [-7.8697798, 112.5230724],\n",
              " [-7.866768199999999, 112.5115954],\n",
              " [-7.867053099999999, 112.5111369]]"
            ]
          },
          "metadata": {
            "tags": []
          },
          "execution_count": 9
        }
      ]
    },
    {
      "cell_type": "code",
      "metadata": {
        "colab": {
          "base_uri": "https://localhost:8080/"
        },
        "id": "TNSVp_-saT-u",
        "outputId": "85b53720-7637-4427-9dad-c4e0b2f5449e"
      },
      "source": [
        "driver_df.loc[0,:]"
      ],
      "execution_count": null,
      "outputs": [
        {
          "output_type": "execute_result",
          "data": {
            "text/plain": [
              "driver_id                                                    51\n",
              "pickuptime                                  2021-05-19 07:00:00\n",
              "start_lat                                              -7.89319\n",
              "start_long                                              112.577\n",
              "end_lat                                                -7.86698\n",
              "end_long                                                112.511\n",
              "routes        [[-7.8927323, 112.5767376], [-7.8926213, 112.5...\n",
              "ket_start                                                pendem\n",
              "ket_end                                              among tani\n",
              "Name: 0, dtype: object"
            ]
          },
          "metadata": {
            "tags": []
          },
          "execution_count": 10
        }
      ]
    },
    {
      "cell_type": "code",
      "metadata": {
        "colab": {
          "base_uri": "https://localhost:8080/",
          "height": 80
        },
        "id": "B7it7VrteWYn",
        "outputId": "8346087e-53e2-408c-ff8c-cc8a689f2ced"
      },
      "source": [
        "driver_df[driver_df['driver_id'] == 11]"
      ],
      "execution_count": null,
      "outputs": [
        {
          "output_type": "execute_result",
          "data": {
            "text/html": [
              "<div>\n",
              "<style scoped>\n",
              "    .dataframe tbody tr th:only-of-type {\n",
              "        vertical-align: middle;\n",
              "    }\n",
              "\n",
              "    .dataframe tbody tr th {\n",
              "        vertical-align: top;\n",
              "    }\n",
              "\n",
              "    .dataframe thead th {\n",
              "        text-align: right;\n",
              "    }\n",
              "</style>\n",
              "<table border=\"1\" class=\"dataframe\">\n",
              "  <thead>\n",
              "    <tr style=\"text-align: right;\">\n",
              "      <th></th>\n",
              "      <th>driver_id</th>\n",
              "      <th>pickuptime</th>\n",
              "      <th>start_lat</th>\n",
              "      <th>start_long</th>\n",
              "      <th>end_lat</th>\n",
              "      <th>end_long</th>\n",
              "      <th>routes</th>\n",
              "      <th>ket_start</th>\n",
              "      <th>ket_end</th>\n",
              "    </tr>\n",
              "  </thead>\n",
              "  <tbody>\n",
              "    <tr>\n",
              "      <th>4</th>\n",
              "      <td>11</td>\n",
              "      <td>2021-05-19 07:45:00</td>\n",
              "      <td>-7.916181</td>\n",
              "      <td>112.583958</td>\n",
              "      <td>-7.882215</td>\n",
              "      <td>112.511487</td>\n",
              "      <td>[[-7.9161186, 112.5838508], [-7.91579580000000...</td>\n",
              "      <td>Dau</td>\n",
              "      <td>Museum Angkut</td>\n",
              "    </tr>\n",
              "  </tbody>\n",
              "</table>\n",
              "</div>"
            ],
            "text/plain": [
              "   driver_id          pickuptime  ...  ket_start        ket_end\n",
              "4         11 2021-05-19 07:45:00  ...        Dau  Museum Angkut\n",
              "\n",
              "[1 rows x 9 columns]"
            ]
          },
          "metadata": {
            "tags": []
          },
          "execution_count": 14
        }
      ]
    },
    {
      "cell_type": "code",
      "metadata": {
        "id": "yAdmbTICgStU"
      },
      "source": [
        ""
      ],
      "execution_count": null,
      "outputs": []
    }
  ]
}